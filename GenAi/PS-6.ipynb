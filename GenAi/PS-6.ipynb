{
 "cells": [
  {
   "cell_type": "markdown",
   "id": "156f3e96",
   "metadata": {},
   "source": [
    "### 6. BERT Embeddings with Transformers"
   ]
  },
  {
   "cell_type": "code",
   "execution_count": null,
   "id": "35e6e186",
   "metadata": {},
   "outputs": [],
   "source": [
    "# Import the BERT tokenizer and model from Hugging Face Transformers\n",
    "from transformers import BertTokenizer, BertModel"
   ]
  },
  {
   "cell_type": "code",
   "execution_count": 2,
   "id": "ff1bc076",
   "metadata": {},
   "outputs": [
    {
     "name": "stderr",
     "output_type": "stream",
     "text": [
      "Xet Storage is enabled for this repo, but the 'hf_xet' package is not installed. Falling back to regular HTTP download. For better performance, install the package with: `pip install huggingface_hub[hf_xet]` or `pip install hf_xet`\n"
     ]
    },
    {
     "data": {
      "application/vnd.jupyter.widget-view+json": {
       "model_id": "e473119c26764c30b41d2ae43ee23d93",
       "version_major": 2,
       "version_minor": 0
      },
      "text/plain": [
       "model.safetensors:   0%|          | 0.00/440M [00:00<?, ?B/s]"
      ]
     },
     "metadata": {},
     "output_type": "display_data"
    },
    {
     "name": "stderr",
     "output_type": "stream",
     "text": [
      "d:\\Academics\\Aissms\\B.Tech.Docs\\Sem-7\\Practical\\BE-Practical-Practice\\GenAi\\.venv\\lib\\site-packages\\huggingface_hub\\file_download.py:143: UserWarning: `huggingface_hub` cache-system uses symlinks by default to efficiently store duplicated files but your machine does not support them in C:\\Users\\ASUS\\.cache\\huggingface\\hub\\models--bert-base-uncased. Caching files will still work but in a degraded version that might require more space on your disk. This warning can be disabled by setting the `HF_HUB_DISABLE_SYMLINKS_WARNING` environment variable. For more details, see https://huggingface.co/docs/huggingface_hub/how-to-cache#limitations.\n",
      "To support symlinks on Windows, you either need to activate Developer Mode or to run Python as an administrator. In order to activate developer mode, see this article: https://docs.microsoft.com/en-us/windows/apps/get-started/enable-your-device-for-development\n",
      "  warnings.warn(message)\n"
     ]
    }
   ],
   "source": [
    "# Load the pre-trained BERT tokenizer and model (uncased, i.e., lowercase)\n",
    "tokenizer = BertTokenizer.from_pretrained('bert-base-uncased')\n",
    "model = BertModel.from_pretrained('bert-base-uncased')\n"
   ]
  },
  {
   "cell_type": "code",
   "execution_count": null,
   "id": "46025d48",
   "metadata": {},
   "outputs": [],
   "source": [
    "# Tokenize the input sentence and prepare it for the BERT model\n",
    "inputs = tokenizer(\"Generative AI creates realistic images\", return_tensors=\"pt\")\n",
    "# Pass the tokenized input through the BERT model to get embeddings\n",
    "outputs = model(**inputs)\n"
   ]
  },
  {
   "cell_type": "code",
   "execution_count": 4,
   "id": "fb010670",
   "metadata": {},
   "outputs": [
    {
     "name": "stdout",
     "output_type": "stream",
     "text": [
      "BERT Output Shape: torch.Size([1, 8, 768])\n",
      "First token embedding: tensor([-0.2924,  0.0249, -0.1646,  0.2106, -0.0188], grad_fn=<SliceBackward0>)\n"
     ]
    }
   ],
   "source": [
    "# Print the shape of the output tensor (tokens × embedding size)\n",
    "print(\"BERT Output Shape:\", outputs.last_hidden_state.shape)\n",
    "\n",
    "# Print the first 5 values of the embedding for the first token\n",
    "print(\"First token embedding:\", outputs.last_hidden_state[0][0][:5])\n"
   ]
  },
  {
   "cell_type": "code",
   "execution_count": null,
   "id": "f13b91f6",
   "metadata": {},
   "outputs": [],
   "source": []
  }
 ],
 "metadata": {
  "kernelspec": {
   "display_name": ".venv",
   "language": "python",
   "name": "python3"
  },
  "language_info": {
   "codemirror_mode": {
    "name": "ipython",
    "version": 3
   },
   "file_extension": ".py",
   "mimetype": "text/x-python",
   "name": "python",
   "nbconvert_exporter": "python",
   "pygments_lexer": "ipython3",
   "version": "3.10.0"
  }
 },
 "nbformat": 4,
 "nbformat_minor": 5
}
