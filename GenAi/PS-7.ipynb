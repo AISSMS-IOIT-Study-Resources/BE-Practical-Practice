{
 "cells": [
  {
   "cell_type": "markdown",
   "id": "6ef31ac0",
   "metadata": {},
   "source": [
    "### 7. FAISS Similarity Search"
   ]
  },
  {
   "cell_type": "code",
   "execution_count": null,
   "id": "22f3aa77",
   "metadata": {},
   "outputs": [],
   "source": [
    "# Import FAISS for similarity search and NumPy for numerical operations\n",
    "import faiss\n",
    "import numpy as np "
   ]
  },
  {
   "cell_type": "code",
   "execution_count": null,
   "id": "53c5a41e",
   "metadata": {},
   "outputs": [],
   "source": [
    "# Create a random dataset of 5 vectors, each of dimension 4\n",
    "data = np.random.random((5,4)).astype('float32')\n",
    "# Build a FAISS index for L2 (Euclidean) distance with 4 dimensions\n",
    "index = faiss.IndexFlatL2(4)\n",
    "# Add the dataset to the FAISS index\n",
    "index.add(data)\n"
   ]
  },
  {
   "cell_type": "code",
   "execution_count": null,
   "id": "6f8cc8a1",
   "metadata": {},
   "outputs": [],
   "source": [
    "# Create a random query vector of dimension 4\n",
    "query = np.random.random((1, 4)).astype('float32')\n",
    "# Search the index for the 3 nearest neighbors to the query\n",
    "distances, indices = index.search(query, k=3)\n"
   ]
  },
  {
   "cell_type": "code",
   "execution_count": 5,
   "id": "bb7946aa",
   "metadata": {},
   "outputs": [
    {
     "name": "stdout",
     "output_type": "stream",
     "text": [
      "Query Vector: [[0.56602234 0.53507835 0.11510021 0.04071612]]\n",
      "Top 3 Nearest Indices: [[3 1 4]]\n",
      "Distances: [[0.16928521 0.4114992  0.8535291 ]]\n"
     ]
    }
   ],
   "source": [
    "# Print the query vector\n",
    "print(\"Query Vector:\", query)\n",
    "\n",
    "# Print the indices of the top 3 nearest vectors in the dataset\n",
    "print(\"Top 3 Nearest Indices:\", indices)\n",
    "\n",
    "# Print the distances to the top 3 nearest vectors\n",
    "print(\"Distances:\", distances)\n"
   ]
  },
  {
   "cell_type": "code",
   "execution_count": null,
   "id": "ed2651ca",
   "metadata": {},
   "outputs": [],
   "source": []
  }
 ],
 "metadata": {
  "kernelspec": {
   "display_name": ".venv",
   "language": "python",
   "name": "python3"
  },
  "language_info": {
   "codemirror_mode": {
    "name": "ipython",
    "version": 3
   },
   "file_extension": ".py",
   "mimetype": "text/x-python",
   "name": "python",
   "nbconvert_exporter": "python",
   "pygments_lexer": "ipython3",
   "version": "3.10.0"
  }
 },
 "nbformat": 4,
 "nbformat_minor": 5
}
