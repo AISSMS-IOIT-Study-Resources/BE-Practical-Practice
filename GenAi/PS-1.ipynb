{
 "cells": [
  {
   "cell_type": "markdown",
   "id": "ec0110f6",
   "metadata": {},
   "source": [
    "### Basic Data Preprocessing for Generative AI"
   ]
  },
  {
   "cell_type": "code",
   "execution_count": 4,
   "id": "49c4d657",
   "metadata": {},
   "outputs": [],
   "source": [
    "import numpy as np\n",
    "from sklearn.preprocessing import MinMaxScaler\n",
    "import matplotlib.pyplot as plt"
   ]
  },
  {
   "cell_type": "code",
   "execution_count": 5,
   "id": "5169f9cd",
   "metadata": {},
   "outputs": [
    {
     "name": "stdout",
     "output_type": "stream",
     "text": [
      "Original Data:\n",
      " [[196   7  94   9  55]\n",
      " [ 40 143 186  28 145]\n",
      " [121 206 178 135 157]\n",
      " [240   9  91  84  20]\n",
      " [ 95  14   8 123  31]\n",
      " [ 75 228 237  50 240]\n",
      " [ 68 118 172  41 167]\n",
      " [ 23 176 182  31  53]\n",
      " [  8  96  92 138  32]\n",
      " [ 83  42 151 186  75]]\n"
     ]
    }
   ],
   "source": [
    "# Generate synthetic data\n",
    "data = np.random.randint(0, 255, (10, 5))\n",
    "print(\"Original Data:\\n\", data)"
   ]
  },
  {
   "cell_type": "code",
   "execution_count": 6,
   "id": "36e48dcc",
   "metadata": {},
   "outputs": [
    {
     "name": "stdout",
     "output_type": "stream",
     "text": [
      "Scaled Data:\n",
      " [[0.81034483 0.         0.37554585 0.         0.15909091]\n",
      " [0.13793103 0.61538462 0.77729258 0.10734463 0.56818182]\n",
      " [0.48706897 0.90045249 0.74235808 0.71186441 0.62272727]\n",
      " [1.         0.00904977 0.36244541 0.42372881 0.        ]\n",
      " [0.375      0.03167421 0.         0.6440678  0.05      ]\n",
      " [0.2887931  1.         1.         0.23163842 1.        ]\n",
      " [0.25862069 0.50226244 0.71615721 0.18079096 0.66818182]\n",
      " [0.06465517 0.76470588 0.75982533 0.12429379 0.15      ]\n",
      " [0.         0.40271493 0.36681223 0.72881356 0.05454545]\n",
      " [0.32327586 0.15837104 0.62445415 1.         0.25      ]]\n"
     ]
    }
   ],
   "source": [
    "# Scale data between 0 and 1\n",
    "scaler = MinMaxScaler()\n",
    "scaled_data = scaler.fit_transform(data)\n",
    "print(\"Scaled Data:\\n\", scaled_data)"
   ]
  },
  {
   "cell_type": "code",
   "execution_count": null,
   "id": "0cd5f8bc",
   "metadata": {},
   "outputs": [],
   "source": []
  }
 ],
 "metadata": {
  "kernelspec": {
   "display_name": "pract_env",
   "language": "python",
   "name": "python3"
  },
  "language_info": {
   "codemirror_mode": {
    "name": "ipython",
    "version": 3
   },
   "file_extension": ".py",
   "mimetype": "text/x-python",
   "name": "python",
   "nbconvert_exporter": "python",
   "pygments_lexer": "ipython3",
   "version": "3.10.0"
  }
 },
 "nbformat": 4,
 "nbformat_minor": 5
}
