{
 "cells": [
  {
   "cell_type": "markdown",
   "id": "1a7fb181",
   "metadata": {},
   "source": [
    "### 10. FID Calculation "
   ]
  },
  {
   "cell_type": "code",
   "execution_count": null,
   "id": "adc647d5",
   "metadata": {},
   "outputs": [],
   "source": [
    "# Import sqrtm for matrix square root (needed for FID calculation)\n",
    "from scipy.linalg import sqrtm\n",
    "# Import numpy for numerical operations\n",
    "import numpy as np\n"
   ]
  },
  {
   "cell_type": "code",
   "execution_count": null,
   "id": "9bc9eb57",
   "metadata": {},
   "outputs": [],
   "source": [
    "# Function to calculate Fréchet Inception Distance (FID) between two distributions\n",
    "def calculate_fid(mu1, sigma1, mu2, sigma2):\n",
    "    # mu1, sigma1: mean and covariance of real images\n",
    "    # mu2, sigma2: mean and covariance of generated images\n",
    "    diff = mu1 - mu2  # difference between means\n",
    "    covmean = sqrtm(sigma1.dot(sigma2))  # sqrt of product of covariances\n",
    "    # FID formula: squared mean difference + trace of covariances minus twice the cross-covariance\n",
    "    fid = diff.dot(diff) + np.trace(sigma1 + sigma2 - 2 * covmean)\n",
    "    return np.real(fid)  # return real part in case of numerical errors\n"
   ]
  },
  {
   "cell_type": "code",
   "execution_count": null,
   "id": "4261dcef",
   "metadata": {},
   "outputs": [],
   "source": [
    "# Generate random mean and identity covariance for two distributions (for demonstration)\n",
    "mu1, sigma1 = np.random.rand(3), np.eye(3)\n",
    "mu2, sigma2 = np.random.rand(3), np.eye(3)\n"
   ]
  },
  {
   "cell_type": "code",
   "execution_count": 4,
   "id": "3285c4e6",
   "metadata": {},
   "outputs": [
    {
     "name": "stdout",
     "output_type": "stream",
     "text": [
      "FID Score: 0.2065036957728149\n"
     ]
    }
   ],
   "source": [
    "# Calculate and print the FID score using the generated means and covariances\n",
    "print(\"FID Score:\", calculate_fid(mu1, sigma1, mu2, sigma2))"
   ]
  },
  {
   "cell_type": "code",
   "execution_count": null,
   "id": "6d365e15",
   "metadata": {},
   "outputs": [],
   "source": []
  }
 ],
 "metadata": {
  "kernelspec": {
   "display_name": ".venv",
   "language": "python",
   "name": "python3"
  },
  "language_info": {
   "codemirror_mode": {
    "name": "ipython",
    "version": 3
   },
   "file_extension": ".py",
   "mimetype": "text/x-python",
   "name": "python",
   "nbconvert_exporter": "python",
   "pygments_lexer": "ipython3",
   "version": "3.10.0"
  }
 },
 "nbformat": 4,
 "nbformat_minor": 5
}
