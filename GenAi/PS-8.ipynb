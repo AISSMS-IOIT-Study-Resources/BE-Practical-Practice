{
 "cells": [
  {
   "cell_type": "markdown",
   "id": "2bc1495b",
   "metadata": {},
   "source": [
    "### 8. Self-Attention Mechanism"
   ]
  },
  {
   "cell_type": "code",
   "execution_count": null,
   "id": "adead391",
   "metadata": {},
   "outputs": [],
   "source": [
    "# Import PyTorch for tensor operations and neural network functions\n",
    "import torch\n",
    "import torch.nn.functional as F "
   ]
  },
  {
   "cell_type": "code",
   "execution_count": null,
   "id": "101dc0db",
   "metadata": {},
   "outputs": [],
   "source": [
    "# Create a random input tensor: (batch=1, sequence_length=3, embedding_dim=4)\n",
    "x = torch.rand(1, 3, 4)\n",
    "# In self-attention, use the same tensor for queries (Q), keys (K), and values (V)\n",
    "Q, K, V = x, x, x"
   ]
  },
  {
   "cell_type": "code",
   "execution_count": null,
   "id": "6519b0f7",
   "metadata": {},
   "outputs": [],
   "source": [
    "# Compute attention scores by dot product of Q and K, normalized by sqrt(embedding_dim)\n",
    "scores = torch.matmul(Q, K.transpose(-2, -1)) / (4 ** 0.5)\n",
    "# Apply softmax to get attention weights (probabilities)\n",
    "weights = F.softmax(scores, dim=-1)\n",
    "# Compute the output as the weighted sum of values (V)\n",
    "output = torch.matmul(weights, V)\n"
   ]
  },
  {
   "cell_type": "code",
   "execution_count": 4,
   "id": "f7a34fae",
   "metadata": {},
   "outputs": [
    {
     "name": "stdout",
     "output_type": "stream",
     "text": [
      "Attention Weights: tensor([[[0.4601, 0.2769, 0.2629],\n",
      "         [0.3874, 0.3236, 0.2890],\n",
      "         [0.3707, 0.2913, 0.3381]]])\n",
      "Output: tensor([[[0.6630, 0.4578, 0.5754, 0.5707],\n",
      "         [0.6336, 0.4323, 0.5330, 0.5781],\n",
      "         [0.6498, 0.4231, 0.5034, 0.5734]]])\n"
     ]
    }
   ],
   "source": [
    "# Print the attention weights (how much each token attends to others)\n",
    "print(\"Attention Weights:\", weights)\n",
    "\n",
    "# Print the output tensor (contextualized representations)\n",
    "print(\"Output:\", output)\n"
   ]
  },
  {
   "cell_type": "code",
   "execution_count": null,
   "id": "3693f837",
   "metadata": {},
   "outputs": [],
   "source": []
  }
 ],
 "metadata": {
  "kernelspec": {
   "display_name": ".venv",
   "language": "python",
   "name": "python3"
  },
  "language_info": {
   "codemirror_mode": {
    "name": "ipython",
    "version": 3
   },
   "file_extension": ".py",
   "mimetype": "text/x-python",
   "name": "python",
   "nbconvert_exporter": "python",
   "pygments_lexer": "ipython3",
   "version": "3.10.0"
  }
 },
 "nbformat": 4,
 "nbformat_minor": 5
}
