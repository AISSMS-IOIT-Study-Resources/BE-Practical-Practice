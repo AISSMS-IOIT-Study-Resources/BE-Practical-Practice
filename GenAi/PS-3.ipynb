{
 "cells": [
  {
   "cell_type": "markdown",
   "id": "9a0d6b67",
   "metadata": {},
   "source": [
    "### 3. TensorFlow Computation Graph with Eager Execution"
   ]
  },
  {
   "cell_type": "code",
   "execution_count": null,
   "id": "6f5e87f0",
   "metadata": {},
   "outputs": [],
   "source": [
    "# Import TensorFlow library for building and running machine learning models\n",
    "import tensorflow as tf"
   ]
  },
  {
   "cell_type": "code",
   "execution_count": null,
   "id": "e3798fd9",
   "metadata": {},
   "outputs": [],
   "source": [
    "# Define constant tensors a and b\n",
    "a = tf.constant([5.0, 3.0])  # Tensor with values [5.0, 3.0]\n",
    "b = tf.constant([2.0, 7.0])  # Tensor with values [2.0, 7.0]"
   ]
  },
  {
   "cell_type": "code",
   "execution_count": null,
   "id": "25ee8652",
   "metadata": {},
   "outputs": [
    {
     "name": "stdout",
     "output_type": "stream",
     "text": [
      "Eager Execution Output:  [ 7. 10.]\n"
     ]
    }
   ],
   "source": [
    "# Eager execution: add tensors a and b element-wise, result is [7.0, 10.0]\n",
    "c = a + b\n",
    "# Convert tensor to numpy array and print the result\n",
    "print(\"Eager Execution Output: \", c.numpy())"
   ]
  },
  {
   "cell_type": "code",
   "execution_count": null,
   "id": "1c6001c5",
   "metadata": {},
   "outputs": [],
   "source": [
    "# Define a function to multiply two tensors element-wise\n",
    "@tf.function  # Converts the function to a TensorFlow computation graph (graph mode)\n",
    "def multiply_tensors(x, y):\n",
    "    return x * y\n"
   ]
  },
  {
   "cell_type": "code",
   "execution_count": null,
   "id": "5561759b",
   "metadata": {},
   "outputs": [
    {
     "name": "stdout",
     "output_type": "stream",
     "text": [
      "Graph Mode Output: [10. 21.]\n"
     ]
    }
   ],
   "source": [
    "# Call the graph mode function with a and b, result is [10.0, 21.0]\n",
    "result = multiply_tensors(a, b)\n",
    "# Convert tensor to numpy array and print the result\n",
    "print(\"Graph Mode Output:\", result.numpy())\n"
   ]
  },
  {
   "cell_type": "code",
   "execution_count": null,
   "id": "c636874a",
   "metadata": {},
   "outputs": [],
   "source": []
  }
 ],
 "metadata": {
  "kernelspec": {
   "display_name": ".venv",
   "language": "python",
   "name": "python3"
  },
  "language_info": {
   "codemirror_mode": {
    "name": "ipython",
    "version": 3
   },
   "file_extension": ".py",
   "mimetype": "text/x-python",
   "name": "python",
   "nbconvert_exporter": "python",
   "pygments_lexer": "ipython3",
   "version": "3.10.0"
  }
 },
 "nbformat": 4,
 "nbformat_minor": 5
}
